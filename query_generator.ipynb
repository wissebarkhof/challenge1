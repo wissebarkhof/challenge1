{
 "cells": [
  {
   "cell_type": "code",
   "execution_count": 76,
   "metadata": {},
   "outputs": [
    {
     "name": "stdout",
     "output_type": "stream",
     "text": [
      "Query: \"cat\" [4,5] \"hat\"\n",
      "Query: \"henry\"\n",
      "Result count: 6 ['henry', 'henry', 'henry', 'henry', 'henry', 'henry']\n",
      "Query: \"henry\" [0,1] \"duncan\"\n",
      "Result count: 5 ['henry duncan', 'henry duncan', 'henry duncan', 'henry duncan', 'henry duncan']\n",
      "Query: \"royal\" [4,6] \"officer\"\n",
      "Result count: 2 ['royal navy officer', 'royal navy officer']\n",
      "Query: \"royal\" [4,7] \"officer\" [4,8] \"1735\"\n",
      "Result count: 1 ['royal navy officer, born 1735']\n"
     ]
    }
   ],
   "source": [
    "import re\n",
    "import ast\n",
    "\n",
    "text = ''' \"henry duncan\" may refer to: \n",
    "*[[henry duncan (royal navy officer, born 1735)]] \n",
    "(1735–1814), naval captain and deputy comptroller of \n",
    "the royal navy *sir [[henry duncan (royal navy officer, \n",
    "born 1786)]] (1786–1835), scottish sailor *[[henry duncan \n",
    "(minister)]] (1774–1846), scottish minister, geologist and\n",
    "social reformer; founder of the savings bank movement  ==see\n",
    "also== * {{intitle}} * [[james henry duncan (disambiguation)]]\n",
    "{{hndis|duncan, henry}}'''\n",
    "\n",
    "test_queries = [\n",
    "    '\"cat\" [4,5] \"hat\"',\n",
    "    '\"henry\"',\n",
    "    '\"henry\" [0,1] \"duncan\"',\n",
    "    '\"royal\" [4,6] \"officer\"',\n",
    "    '\"royal\" [4,7] \"officer\" [4,8] \"1735\"'\n",
    "]\n",
    "\n",
    "def buildRegex(query):\n",
    "    elements = query.split()\n",
    "    strings = [string.replace('\"', '') for string in elements[::2]]\n",
    "    wild_cards = [ast.literal_eval(element) for element in elements[1::2]]\n",
    "    regex_string = r''\n",
    "    for index, string in enumerate(strings):\n",
    "        regex_string += re.escape(string)\n",
    "        if (index < (len(strings) - 1)):\n",
    "            min_char, max_char = wild_cards[index]\n",
    "            unknown = '.{' + str(min_char) + ',' + str(max_char) + '}' \n",
    "            regex_string += unknown\n",
    "    return regex_string\n",
    "      \n",
    "def findQuery(query):\n",
    "    regex = buildRegex(query)\n",
    "    matchObj = re.findall(regex, text)\n",
    "    if (matchObj):\n",
    "        return matchObj\n",
    "\n",
    "for query in test_queries:\n",
    "    print 'Query:', query\n",
    "    result = findQuery(query)\n",
    "    if (result): \n",
    "        print 'Result count:', len(result), result"
   ]
  },
  {
   "cell_type": "code",
   "execution_count": 53,
   "metadata": {},
   "outputs": [
    {
     "data": {
      "text/plain": [
       "{}"
      ]
     },
     "execution_count": 53,
     "metadata": {},
     "output_type": "execute_result"
    }
   ],
   "source": [
    "matchObj.groupdict()"
   ]
  },
  {
   "cell_type": "code",
   "execution_count": null,
   "metadata": {
    "collapsed": true
   },
   "outputs": [],
   "source": []
  }
 ],
 "metadata": {
  "kernelspec": {
   "display_name": "Python 2",
   "language": "python",
   "name": "python2"
  },
  "language_info": {
   "codemirror_mode": {
    "name": "ipython",
    "version": 2
   },
   "file_extension": ".py",
   "mimetype": "text/x-python",
   "name": "python",
   "nbconvert_exporter": "python",
   "pygments_lexer": "ipython2",
   "version": "2.7.13"
  }
 },
 "nbformat": 4,
 "nbformat_minor": 2
}
